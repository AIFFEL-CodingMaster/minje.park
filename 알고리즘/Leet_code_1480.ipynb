{
 "cells": [
  {
   "cell_type": "code",
   "execution_count": 1,
   "id": "registered-florida",
   "metadata": {},
   "outputs": [],
   "source": [
    "class Solution:\n",
    "    \n",
    "    def runningSum(self,nums):\n",
    "        stack = []\n",
    "        result = 0\n",
    "        \n",
    "        for i in nums:\n",
    "            result += i\n",
    "            stack.append(result)\n",
    "        \n",
    "        return stack\n",
    "    "
   ]
  },
  {
   "cell_type": "code",
   "execution_count": null,
   "id": "third-collectible",
   "metadata": {},
   "outputs": [],
   "source": [
    "Solution"
   ]
  }
 ],
 "metadata": {
  "kernelspec": {
   "display_name": "aiffel",
   "language": "python",
   "name": "aiffel"
  },
  "language_info": {
   "codemirror_mode": {
    "name": "ipython",
    "version": 3
   },
   "file_extension": ".py",
   "mimetype": "text/x-python",
   "name": "python",
   "nbconvert_exporter": "python",
   "pygments_lexer": "ipython3",
   "version": "3.7.9"
  }
 },
 "nbformat": 4,
 "nbformat_minor": 5
}
