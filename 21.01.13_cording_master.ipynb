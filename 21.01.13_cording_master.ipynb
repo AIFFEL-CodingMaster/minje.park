{
 "cells": [
  {
   "cell_type": "markdown",
   "metadata": {},
   "source": [
    "`git add`   \n",
    "\n",
    "`git status`! 잘 처봅시다!!  \n",
    "\n",
    "초록색은 commit할 준비가 되었습니다!! \n",
    "\n",
    "gitignore 앞에 .이 붙어있으면 숨김파일입니다. \n",
    "\n",
    "\n",
    "`git commit -m '메시지'`\n",
    "\n",
    "`git push origin main` origin main은 만약에 하나만 있다면 `git push`만 써도 가능함. \n",
    "\n",
    "`import os`  \n",
    "\n",
    "`os.getwd()` 현재위치가 나옵니다. \n",
    "\n",
    "수정되는 것은 `git add. ` add 점!! 점을 씁니다!! \n",
    "\n",
    "git commit -m \n"
   ]
  },
  {
   "cell_type": "markdown",
   "metadata": {},
   "source": [
    "변수\n",
    "\n",
    "객체를 가리키는 것 or 객체를 담는 것 \n",
    "\n",
    "+ 영어로 쓰는 것을 권장 \n",
    "+ 특수문자 사용불가\n",
    "+ 숫자로 시작불가   \n",
    "\n"
   ]
  },
  {
   "cell_type": "code",
   "execution_count": 1,
   "metadata": {},
   "outputs": [],
   "source": [
    "name = '박민제'"
   ]
  },
  {
   "cell_type": "code",
   "execution_count": 2,
   "metadata": {},
   "outputs": [],
   "source": [
    "eng_name = 'minje'\n",
    "phone_number = '010-7463-7123'"
   ]
  },
  {
   "cell_type": "code",
   "execution_count": 4,
   "metadata": {},
   "outputs": [
    {
     "name": "stdout",
     "output_type": "stream",
     "text": [
      "박민제 \n",
      " minje\n"
     ]
    }
   ],
   "source": [
    "print(name, '\\n', eng_name)\n"
   ]
  },
  {
   "cell_type": "markdown",
   "metadata": {},
   "source": [
    "`'\\n'`은 한 줄 띄기  \n",
    "\n",
    "한줄띄기 \n",
    "`print()`\n",
    "\n",
    "\n",
    "`'\\t'`은 4칸 띄기 "
   ]
  },
  {
   "cell_type": "code",
   "execution_count": 6,
   "metadata": {},
   "outputs": [
    {
     "name": "stdout",
     "output_type": "stream",
     "text": [
      "박민제 \n",
      " 010-7463-7123 \n",
      "\n"
     ]
    }
   ],
   "source": [
    "name = '박민제'\n",
    "phone_number = '010-7463-7123'\n",
    "eng_name = 'Minje Park'\n",
    "address = '서울시'\n",
    "\n",
    "print(name,'\\n', phone_number,'\\n')"
   ]
  },
  {
   "cell_type": "code",
   "execution_count": 7,
   "metadata": {},
   "outputs": [
    {
     "name": "stdout",
     "output_type": "stream",
     "text": [
      "abcdefgd\n",
      "abcd efgd  "
     ]
    }
   ],
   "source": [
    "#한줄 출력 \n",
    "print('abcd', end=\"\")\n",
    "print('efgd')\n",
    "\n",
    "print('abcd', end=' ')\n",
    "print('efgd', end= '  ')"
   ]
  },
  {
   "cell_type": "code",
   "execution_count": 8,
   "metadata": {},
   "outputs": [
    {
     "name": "stdout",
     "output_type": "stream",
     "text": [
      "1.23\n"
     ]
    }
   ],
   "source": [
    "print('%.2f' % 1.23455)\n",
    "#3자리 4번째 자리에서 반올림 \n"
   ]
  },
  {
   "cell_type": "code",
   "execution_count": 9,
   "metadata": {},
   "outputs": [
    {
     "name": "stdout",
     "output_type": "stream",
     "text": [
      "나는 10시에 집에 간다\n"
     ]
    }
   ],
   "source": [
    "when = 10 \n",
    "where = '집'\n",
    "\n",
    "print(f'나는 {when}시에 {where}에 간다')"
   ]
  },
  {
   "cell_type": "code",
   "execution_count": 10,
   "metadata": {},
   "outputs": [
    {
     "name": "stdout",
     "output_type": "stream",
     "text": [
      "10시에 집로 자러갑니다.\n"
     ]
    }
   ],
   "source": [
    "when = 10\n",
    "where ='집'\n",
    "why ='자러'\n",
    "\n",
    "print(f'{when}시에 {where}로 {why}갑니다.')"
   ]
  },
  {
   "cell_type": "markdown",
   "metadata": {},
   "source": [
    "구구단을 만들자! "
   ]
  },
  {
   "cell_type": "code",
   "execution_count": 11,
   "metadata": {},
   "outputs": [
    {
     "name": "stdout",
     "output_type": "stream",
     "text": [
      "8\n",
      "8단\n",
      "8 x 1 = 8\n",
      "8 x 1 = 16\n",
      "8 x 1 = 24\n",
      "8 x 1 = 32\n",
      "8 x 1 = 40\n",
      "8 x 1 = 48\n",
      "8 x 1 = 56\n",
      "8 x 1 = 64\n",
      "8 x 1 = 72\n"
     ]
    }
   ],
   "source": [
    "num = int(input())\n",
    "print(f'{num}단')\n",
    "print(f'{num} x 1 = {num*1}')\n",
    "print(f'{num} x 1 = {num*2}')\n",
    "print(f'{num} x 1 = {num*3}')\n",
    "print(f'{num} x 1 = {num*4}')\n",
    "print(f'{num} x 1 = {num*5}')\n",
    "print(f'{num} x 1 = {num*6}')\n",
    "print(f'{num} x 1 = {num*7}')\n",
    "print(f'{num} x 1 = {num*8}')\n",
    "print(f'{num} x 1 = {num*9}')\n"
   ]
  },
  {
   "cell_type": "code",
   "execution_count": 15,
   "metadata": {},
   "outputs": [
    {
     "name": "stdout",
     "output_type": "stream",
     "text": [
      "<class 'pandas.core.frame.DataFrame'>\n",
      "temp 함수 사용\n"
     ]
    }
   ],
   "source": [
    "import pandas as pd\n",
    "data_frame = pd.DataFrame()\n",
    "print(type(data_frame))\n",
    "\n",
    "def temp():\n",
    "    print('temp 함수 사용')\n",
    "temp()"
   ]
  },
  {
   "cell_type": "code",
   "execution_count": 17,
   "metadata": {},
   "outputs": [
    {
     "name": "stdout",
     "output_type": "stream",
     "text": [
      "None\n"
     ]
    }
   ],
   "source": [
    "a = {1,2,3}\n",
    "aa = a.add(4)\n",
    "print(aa) #변수 할당을 하면 안됩니다. "
   ]
  },
  {
   "cell_type": "code",
   "execution_count": 19,
   "metadata": {},
   "outputs": [
    {
     "name": "stdout",
     "output_type": "stream",
     "text": [
      "140323753564912\n",
      "94102705561440\n",
      "140324041042672\n"
     ]
    }
   ],
   "source": [
    "a = [1,2,3]\n",
    "b = 100\n",
    "c = 100.00\n",
    "\n",
    "print(id(a))\n",
    "print(id(b))\n",
    "print(id(c))"
   ]
  },
  {
   "cell_type": "code",
   "execution_count": 24,
   "metadata": {},
   "outputs": [
    {
     "name": "stdout",
     "output_type": "stream",
     "text": [
      "False\n",
      "True\n",
      "True\n"
     ]
    }
   ],
   "source": [
    "#할당 할 때마다 달라집니다. \n",
    "print(b is c)\n",
    "print(b == c)\n",
    "print(b is not c)\n",
    "#정수는 256까지는 자리가 정해져있다. 그래서 정수 256까지는 true를 반환한다. "
   ]
  },
  {
   "cell_type": "code",
   "execution_count": 25,
   "metadata": {},
   "outputs": [
    {
     "name": "stdout",
     "output_type": "stream",
     "text": [
      "55\n",
      "100보다 작음\n"
     ]
    }
   ],
   "source": [
    "list_1 = [1,2,3,4,5,6,7,8,9,10]\n",
    "if sum(list_1)< 100:\n",
    "    print(sum(list_1))\n",
    "    print('100보다 작음')"
   ]
  },
  {
   "cell_type": "code",
   "execution_count": 26,
   "metadata": {},
   "outputs": [
    {
     "name": "stdout",
     "output_type": "stream",
     "text": [
      "list_3: [1]\n"
     ]
    }
   ],
   "source": [
    "list_3 = [1]\n",
    "if len(list_3)<10:\n",
    "    print('list_3:', list_3)"
   ]
  },
  {
   "cell_type": "code",
   "execution_count": 39,
   "metadata": {},
   "outputs": [
    {
     "name": "stdout",
     "output_type": "stream",
     "text": [
      "type of a : set\n"
     ]
    }
   ],
   "source": [
    "a = set()\n",
    "if type(a) == set:\n",
    "    print('type of a : set')"
   ]
  },
  {
   "cell_type": "code",
   "execution_count": null,
   "metadata": {},
   "outputs": [],
   "source": []
  }
 ],
 "metadata": {
  "kernelspec": {
   "display_name": "aiffel",
   "language": "python",
   "name": "aiffel"
  },
  "language_info": {
   "codemirror_mode": {
    "name": "ipython",
    "version": 3
   },
   "file_extension": ".py",
   "mimetype": "text/x-python",
   "name": "python",
   "nbconvert_exporter": "python",
   "pygments_lexer": "ipython3",
   "version": "3.7.9"
  }
 },
 "nbformat": 4,
 "nbformat_minor": 4
}
