{
 "cells": [
  {
   "cell_type": "code",
   "execution_count": 1,
   "metadata": {},
   "outputs": [
    {
     "name": "stdout",
     "output_type": "stream",
     "text": [
      "안녕하세요! 좋은 아침입니다!\n"
     ]
    }
   ],
   "source": [
    "#input과 output이 없는 함수\n",
    "def say_hello_nice ():\n",
    "    print('안녕하세요! 좋은 아침입니다!')\n",
    "say_hello_nice()"
   ]
  },
  {
   "cell_type": "code",
   "execution_count": 2,
   "metadata": {},
   "outputs": [],
   "source": [
    "#input과 output이 모두 있는 함수\n",
    "def add (a,b):\n",
    "    print(f'{a} + {b}')\n",
    "    result = a+b\n",
    "    return result "
   ]
  },
  {
   "cell_type": "code",
   "execution_count": 3,
   "metadata": {},
   "outputs": [
    {
     "name": "stdout",
     "output_type": "stream",
     "text": [
      "{3: 5}\n"
     ]
    }
   ],
   "source": [
    "# input만 있고 output 없는 함수\n",
    "dic = {}\n",
    "def append (a,b):\n",
    "    dic[a] = b\n",
    "append(3,5)\n",
    "print(dic)"
   ]
  },
  {
   "cell_type": "code",
   "execution_count": 4,
   "metadata": {},
   "outputs": [
    {
     "name": "stdout",
     "output_type": "stream",
     "text": [
      "안녕하세요! 좋은 아침입니다!\n"
     ]
    }
   ],
   "source": [
    "#output만 있는 함수 \n",
    "\n",
    "def say_hello ():\n",
    "    return say_hello_nice()\n",
    "say_hello()"
   ]
  },
  {
   "cell_type": "code",
   "execution_count": null,
   "metadata": {},
   "outputs": [],
   "source": []
  }
 ],
 "metadata": {
  "kernelspec": {
   "display_name": "aiffel",
   "language": "python",
   "name": "aiffel"
  },
  "language_info": {
   "codemirror_mode": {
    "name": "ipython",
    "version": 3
   },
   "file_extension": ".py",
   "mimetype": "text/x-python",
   "name": "python",
   "nbconvert_exporter": "python",
   "pygments_lexer": "ipython3",
   "version": "3.7.9"
  }
 },
 "nbformat": 4,
 "nbformat_minor": 4
}
