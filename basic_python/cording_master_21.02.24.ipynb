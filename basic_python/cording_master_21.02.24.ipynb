{
 "cells": [
  {
   "cell_type": "markdown",
   "id": "rolled-complaint",
   "metadata": {},
   "source": [
    "class method는 클래스에 바로 접근할 때 진행합니다. \n",
    "\n",
    "+ 276번에서 display_info \n"
   ]
  },
  {
   "cell_type": "code",
   "execution_count": null,
   "id": "medical-sponsorship",
   "metadata": {},
   "outputs": [],
   "source": []
  },
  {
   "cell_type": "markdown",
   "id": "atmospheric-proxy",
   "metadata": {},
   "source": [
    "배열은 동적언어와 정적언어가 있음 \n",
    "빅오..?ㅎ"
   ]
  },
  {
   "cell_type": "markdown",
   "id": "negative-shoot",
   "metadata": {},
   "source": [
    "# 파이썬의 배열 \n",
    "\n",
    "+ 리스트나 튜플로 구현이 가능하다. \n",
    "+ 다른 언어에서는 배열이 가질 수 있는 데이터 타입을 정해주지만 파이썬은 그런게 없다 "
   ]
  },
  {
   "cell_type": "code",
   "execution_count": 1,
   "id": "posted-filename",
   "metadata": {},
   "outputs": [
    {
     "name": "stdout",
     "output_type": "stream",
     "text": [
      "1\n",
      "1\n"
     ]
    }
   ],
   "source": [
    "array_1 = [1,2,3,4,5]\n",
    "array_2 = (1,2,3,4,5)\n",
    "\n",
    "print(array_1[0])\n",
    "print(array_2[0])"
   ]
  },
  {
   "cell_type": "code",
   "execution_count": 3,
   "id": "passive-lightweight",
   "metadata": {},
   "outputs": [],
   "source": [
    "from collections import deque\n",
    "deque = deque()"
   ]
  },
  {
   "cell_type": "code",
   "execution_count": 4,
   "id": "certain-cleaner",
   "metadata": {},
   "outputs": [
    {
     "data": {
      "text/plain": [
       "deque([1])"
      ]
     },
     "execution_count": 4,
     "metadata": {},
     "output_type": "execute_result"
    }
   ],
   "source": [
    "deque.append(1)\n",
    "deque"
   ]
  },
  {
   "cell_type": "code",
   "execution_count": 5,
   "id": "hollow-monitor",
   "metadata": {},
   "outputs": [
    {
     "data": {
      "text/plain": [
       "'bBuhHiIlLqQfd'"
      ]
     },
     "execution_count": 5,
     "metadata": {},
     "output_type": "execute_result"
    }
   ],
   "source": [
    "#array를 이용하여 타입을 지정하는 배열을 만들 수 있음. \n",
    "\n",
    "import array\n",
    "\n",
    "array.typecodes"
   ]
  },
  {
   "cell_type": "code",
   "execution_count": 7,
   "id": "legal-worker",
   "metadata": {},
   "outputs": [],
   "source": [
    "array_3 = array.array('b')\n",
    "array_3.append(1)\n",
    "array_3.extend([2,3,4,5,6])"
   ]
  },
  {
   "cell_type": "markdown",
   "id": "rising-trout",
   "metadata": {},
   "source": [
    "# 속도가 빠르게 하려면 deque를 사용하라 \n",
    "\n",
    "append() 추가\n",
    "    extend()는 리스트를 벗겨서 넣어줍니다. "
   ]
  },
  {
   "cell_type": "code",
   "execution_count": 10,
   "id": "ultimate-boxing",
   "metadata": {},
   "outputs": [],
   "source": [
    "#stack 클래스 만들기 \n",
    "\n",
    "class stack:\n",
    "    def __init__(self, *args): #어떤게 들어올지 모르니깐\n",
    "        if args == (): #아무것도 안 넣으면 빈 튜플이 반환됩니다. 그렇게 된다면..?\n",
    "            self.stack = [] # 빈 리스트로 넣어줘라.\n",
    "        else:\n",
    "            self.stack =[i for i in args] # 이게 스택이다...ㅎ args에 무엇이라도 있다면..하나하나 뽑아서 추가해라.\n",
    "    def push(self, *args):\n",
    "        self.tacks += [i for i in args]\n",
    "        \n",
    "    def pop(self):\n",
    "        last = self.stack[-1]\n",
    "        del self.stack[-1]\n",
    "        return last\n",
    "    \n",
    "    def __repr__(self): # repr : represent\n",
    "        return f'{self.stack}' # str과 다른거는 "
   ]
  },
  {
   "cell_type": "code",
   "execution_count": 11,
   "id": "assumed-aquarium",
   "metadata": {},
   "outputs": [
    {
     "data": {
      "text/plain": [
       "[1, 2, 3]"
      ]
     },
     "execution_count": 11,
     "metadata": {},
     "output_type": "execute_result"
    }
   ],
   "source": [
    "stack_2 = stack(1,2,3)\n",
    "stack_2"
   ]
  },
  {
   "cell_type": "code",
   "execution_count": 13,
   "id": "outstanding-circus",
   "metadata": {},
   "outputs": [
    {
     "name": "stdout",
     "output_type": "stream",
     "text": [
      "[1, 2, 3, 4]\n"
     ]
    }
   ],
   "source": [
    "# 큐 만들기 \n",
    "queue = []\n",
    "\n",
    "queue.append(1)\n",
    "queue.extend([2,3,4])\n",
    "print(queue)"
   ]
  },
  {
   "cell_type": "code",
   "execution_count": 14,
   "id": "willing-logistics",
   "metadata": {},
   "outputs": [
    {
     "name": "stdout",
     "output_type": "stream",
     "text": [
      "[2, 3, 4]\n"
     ]
    }
   ],
   "source": [
    "# 큐에서 데이터 꺼내기 \n",
    "# 큐는 찍히는게 들어오는 순서입니다. \n",
    "queue.pop(0)\n",
    "print(queue)"
   ]
  },
  {
   "cell_type": "code",
   "execution_count": null,
   "id": "about-equity",
   "metadata": {},
   "outputs": [],
   "source": [
    "# que class만들기 \n",
    "#python의 deque()만들기 \n",
    "\n"
   ]
  }
 ],
 "metadata": {
  "kernelspec": {
   "display_name": "aiffel",
   "language": "python",
   "name": "aiffel"
  },
  "language_info": {
   "codemirror_mode": {
    "name": "ipython",
    "version": 3
   },
   "file_extension": ".py",
   "mimetype": "text/x-python",
   "name": "python",
   "nbconvert_exporter": "python",
   "pygments_lexer": "ipython3",
   "version": "3.7.9"
  }
 },
 "nbformat": 4,
 "nbformat_minor": 5
}
